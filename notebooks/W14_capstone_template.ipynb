{
 "cells": [
  {
   "cell_type": "markdown",
   "id": "0",
   "metadata": {},
   "source": [
    "# W14 · Capstone Project Template\n",
    "\n",
    "This notebook is scaffolded for the Deep Learning Course 2025. Replace the placeholder content with the week's material.\n"
   ]
  },
  {
   "cell_type": "markdown",
   "id": "1",
   "metadata": {},
   "source": [
    "## Getting Started\n",
    "1. Duplicate `templates/notebook_template.py` using `scripts/new_week.py` for fresh content.\n",
    "2. Update the Objectives section, add experiments, and track logs under `runs/`.\n",
    "3. Commit with clean outputs—`pre-commit` will strip execution results automatically.\n"
   ]
  },
  {
   "cell_type": "code",
   "execution_count": null,
   "id": "2",
   "metadata": {},
   "outputs": [],
   "source": [
    "# Placeholder cell. Start building the lesson by importing TensorFlow and course utilities.\n",
    "print(\"Welcome to W14 · Capstone Project Template! Replace this cell with your code.\")\n"
   ]
  }
 ],
 "metadata": {
  "jupytext": {
   "formats": "ipynb,py:percent"
  },
  "kernelspec": {
   "display_name": "Python 3",
   "language": "python",
   "name": "python3"
  },
  "language_info": {
   "name": "python",
   "version": "3.11"
  }
 },
 "nbformat": 4,
 "nbformat_minor": 5
}
