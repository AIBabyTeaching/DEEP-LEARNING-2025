{
 "cells": [
  {
   "cell_type": "code",
   "execution_count": null,
   "id": "f55f6012",
   "metadata": {},
   "outputs": [
    {
     "name": "stdout",
     "output_type": "stream",
     "text": [
      "2.15.0\n"
     ]
    }
   ],
   "source": [
    "import tensorflow as tf\n",
    "from tensorflow import keras\n",
    "from tensorflow.keras import layers\n",
    "import matplotlib.pyplot as plt\n",
    "import numpy as np\n",
    "import time\n",
    "\n",
    "print(tf.__version__)\n",
    "\n",
    "# Load Fashion-MNIST\n",
    "(train_images, train_labels), (test_images, test_labels) = keras.datasets.fashion_mnist.load_data()"
   ]
  },
  {
   "cell_type": "code",
   "execution_count": null,
   "id": "e18c4300",
   "metadata": {},
   "outputs": [],
   "source": [
    "# normalize \n",
    "def normalizer_flattener(images):\n",
    "    images = images.astype('float32')/255.0 # why dividing by 255\n",
    "    images = images.reshape((images.shape[0],-1))\n",
    "    return images\n",
    "train_images = normalizer_flattener(train_images)\n",
    "test_images = normalizer_flattener(test_images)\n"
   ]
  },
  {
   "cell_type": "code",
   "execution_count": null,
   "id": "a7a3c971",
   "metadata": {},
   "outputs": [],
   "source": [
    "# tts (train test split using subset)\n",
    "train_split = 14000\n",
    "test_split = 3000 # validation\n",
    "\n"
   ]
  },
  {
   "cell_type": "code",
   "execution_count": 16,
   "id": "439e1b70",
   "metadata": {},
   "outputs": [],
   "source": [
    "'''\n",
    "Function:\n",
    "- Given:\n",
    "    - Hidden layers for example [256, 168] for 2 hidden layers\n",
    "    - Activation function like 'relu, tanh, sigmoid, elu'\n",
    "    - Dropout rate (0.0 means no dropout) # neglect\n",
    "    - learning rate \n",
    "- Returns:\n",
    "    - Model\n",
    "'''\n",
    "\n",
    "def build_mlp(hidden_layers, activation=\"relu\", dropout_rate=0.0, learning_rate=1e-3):\n",
    "    model = keras.Sequential(name=\"mlp\")\n",
    "    model.add(layers.Input(shape=(28 * 28,)))\n",
    "    for units in hidden_layers:\n",
    "        model.add(layers.Dense(units, activation=activation))\n",
    "        if dropout_rate > 0:\n",
    "            model.add(layers.Dropout(dropout_rate))\n",
    "    model.add(layers.Dense(10, activation=\"softmax\"))\n",
    "    model.compile(\n",
    "        optimizer=keras.optimizers.Adam(learning_rate=learning_rate),\n",
    "        loss=\"sparse_categorical_crossentropy\",\n",
    "        metrics=[\"accuracy\"]\n",
    "    )\n",
    "    return model"
   ]
  },
  {
   "cell_type": "code",
   "execution_count": 17,
   "id": "66187d15",
   "metadata": {},
   "outputs": [
    {
     "data": {
      "text/plain": [
       "WindowsPath('model.png')"
      ]
     },
     "execution_count": 17,
     "metadata": {},
     "output_type": "execute_result"
    }
   ],
   "source": [
    "from dl_utils import visualize_model\n",
    "\n",
    "visualize_model(build_mlp([256, 128]))"
   ]
  }
 ],
 "metadata": {
  "kernelspec": {
   "display_name": "mitocluster",
   "language": "python",
   "name": "python3"
  },
  "language_info": {
   "codemirror_mode": {
    "name": "ipython",
    "version": 3
   },
   "file_extension": ".py",
   "mimetype": "text/x-python",
   "name": "python",
   "nbconvert_exporter": "python",
   "pygments_lexer": "ipython3",
   "version": "3.11.5"
  }
 },
 "nbformat": 4,
 "nbformat_minor": 5
}
